{
 "cells": [
  {
   "cell_type": "markdown",
   "metadata": {},
   "source": [
    "# Python Coding Session"
   ]
  },
  {
   "cell_type": "markdown",
   "metadata": {},
   "source": [
    "Welcome to this live coding session where I will cover some of the basics of Python and encourage you to simply dive in, make errors and learn."
   ]
  },
  {
   "cell_type": "markdown",
   "metadata": {},
   "source": [
    "I start by noting that Python is a language that takes some of the best features from C/C++ and Matlab.  Therefore some of the constructs will seem similar, but will be syntatically different.  All of this is very manageable and assuredly, the more you do the more you will learn.  Let's start off with some simple, non-controversial constructs"
   ]
  },
  {
   "cell_type": "code",
   "execution_count": 1,
   "metadata": {},
   "outputs": [
    {
     "name": "stdout",
     "output_type": "stream",
     "text": [
      "12\n",
      "4.7\n",
      "-0.328571428571 -16.1\n"
     ]
    }
   ],
   "source": [
    "a=5\n",
    "b=7\n",
    "print a+b\n",
    "a=a-7.3\n",
    "print a+b\n",
    "print a/b,a*b"
   ]
  },
  {
   "cell_type": "markdown",
   "metadata": {},
   "source": [
    "You may notice that for my *print* statements, I am using Python 2.  Python 3 requires placing the expression to print in parenthesis.  This is a very minor distinction in the languages.  Don't worry about this too much...just be cognizant of the difference."
   ]
  },
  {
   "cell_type": "markdown",
   "metadata": {},
   "source": [
    "So we have done a couple of assignments, and a few integer and floating point operations.  Easy peasy!"
   ]
  },
  {
   "cell_type": "markdown",
   "metadata": {},
   "source": [
    "A key element in any programming language is the built in data structures.  From these building blocks, more complex structures will arise, so practicing and achieving some level of mastery is important.  "
   ]
  },
  {
   "cell_type": "markdown",
   "metadata": {},
   "source": [
    "# LISTS"
   ]
  },
  {
   "cell_type": "code",
   "execution_count": 2,
   "metadata": {},
   "outputs": [],
   "source": [
    "a=[0,'melon',-0.7,'Where is my life going', ['Here is another list within a list...how sweet...we are bonding!',10,2]]"
   ]
  },
  {
   "cell_type": "markdown",
   "metadata": {},
   "source": [
    "A list is a container of data.  Anything goes in that the list can be heterogenous.  In other popular programming languages such as C/C++, MATLAB and Fortran(?), all elements in a container must be the same.  A glaring exception to this are C/C++ structs, but you get the point.  In the examples above the list, **assigned** to variable a has an integer, a strong, a negative floating point, and...wait for it...another list.  A list can contain anything.  The data in a list is contained between brackets."
   ]
  },
  {
   "cell_type": "code",
   "execution_count": 3,
   "metadata": {},
   "outputs": [
    {
     "name": "stdout",
     "output_type": "stream",
     "text": [
      "[0, 'melon', -0.7, 'Where is my life going', ['Here is another list within a list...how sweet...we are bonding!', 10, 2], 'Another sentence', 'another list', 1.7]\n"
     ]
    }
   ],
   "source": [
    "b=['Another sentence','another list',1.7]\n",
    "print a+b"
   ]
  },
  {
   "cell_type": "markdown",
   "metadata": {},
   "source": [
    "Here we define another list and assign this to variable b and print the combination of the two list by using the + operator which in list parlance is simply concatenation...not arithmentic addition.  Easy peasy!  In the spirit of experimentation, we should see what the \"-\" operator does.  Is it going to bomb?  What would happen if we use *?"
   ]
  },
  {
   "cell_type": "code",
   "execution_count": 4,
   "metadata": {},
   "outputs": [
    {
     "ename": "TypeError",
     "evalue": "unsupported operand type(s) for -: 'list' and 'list'",
     "output_type": "error",
     "traceback": [
      "\u001b[0;31m---------------------------------------------------------------------------\u001b[0m",
      "\u001b[0;31mTypeError\u001b[0m                                 Traceback (most recent call last)",
      "\u001b[0;32m<ipython-input-4-0a2cdeb16d59>\u001b[0m in \u001b[0;36m<module>\u001b[0;34m()\u001b[0m\n\u001b[0;32m----> 1\u001b[0;31m \u001b[0;32mprint\u001b[0m \u001b[0ma\u001b[0m\u001b[0;34m-\u001b[0m\u001b[0mb\u001b[0m\u001b[0;34m,\u001b[0m \u001b[0ma\u001b[0m\u001b[0;34m*\u001b[0m\u001b[0mb\u001b[0m\u001b[0;34m\u001b[0m\u001b[0m\n\u001b[0m",
      "\u001b[0;31mTypeError\u001b[0m: unsupported operand type(s) for -: 'list' and 'list'"
     ]
    }
   ],
   "source": [
    "print a-b, a*b"
   ]
  },
  {
   "cell_type": "markdown",
   "metadata": {},
   "source": [
    "We access elements of a list by using the bracket operator with the variable.  This construct is very similar to C/C++.  MATLAB and Fortran use parenthesis for this operation.  "
   ]
  },
  {
   "cell_type": "code",
   "execution_count": 8,
   "metadata": {},
   "outputs": [
    {
     "name": "stdout",
     "output_type": "stream",
     "text": [
      "0 melon 1.7 8\n",
      "[0, 'melon', -0.7, 'Where is my life going', ['Here is another list within a list...how sweet...we are bonding!', 10, 2], 'Another sentence', 'another list', 1.7]\n",
      "[0, 'melon', -0.7, 'Where is my life going', ['Here is another list within a list...how sweet...we are bonding!', 10, 2], 'Another sentence', 'another list', 1.7, 2, 'Another list element']\n"
     ]
    }
   ],
   "source": [
    "c=a+b\n",
    "print c[0],c[1],c[-1],len(c)\n",
    "print c\n",
    "c.append(2)\n",
    "c.append('Another list element')\n",
    "print c"
   ]
  },
  {
   "cell_type": "markdown",
   "metadata": {},
   "source": [
    "So we print out a few elements of the new list, c, and then print out its length and append some values.  The most exotic thing here is the way that the elements are numbered.  The -1^th element is the last element in the list.  The implication is that we have negative indices and sometimes this is more convenient.  Here we will do a few more for grins."
   ]
  },
  {
   "cell_type": "code",
   "execution_count": 10,
   "metadata": {},
   "outputs": [
    {
     "name": "stdout",
     "output_type": "stream",
     "text": [
      "[0, 'melon', -0.7, 'Where is my life going', ['Here is another list within a list...how sweet...we are bonding!', 10, 2], 'Another sentence', 'another list', 1.7, 2, 'Another list element']\n",
      "2\n",
      "[-0.7, 'Where is my life going']\n",
      "[0, 'melon', -0.7]\n",
      "['Where is my life going', ['Here is another list within a list...how sweet...we are bonding!', 10, 2], 'Another sentence', 'another list', 1.7, 2, 'Another list element']\n"
     ]
    }
   ],
   "source": [
    "print c\n",
    "print c[-2]\n",
    "print c[2:4]\n",
    "print c[:3]\n",
    "print c[3:]"
   ]
  },
  {
   "cell_type": "markdown",
   "metadata": {},
   "source": [
    "So the operations above show negative indices and subsetting.  Note the similarity to MATLAB here and how much more processing is required to accomplish the same thing in C/C++.  This all seems a little stupid, especially the contrived examples, but it is of great importance when writing real applications"
   ]
  },
  {
   "cell_type": "markdown",
   "metadata": {},
   "source": [
    "# Tuples"
   ]
  },
  {
   "cell_type": "markdown",
   "metadata": {},
   "source": [
    "Tuples are immutable objects and are contained within parenthesis.  They have some interesting uses as parameters to routines or return values from functions.  "
   ]
  },
  {
   "cell_type": "code",
   "execution_count": 13,
   "metadata": {},
   "outputs": [
    {
     "name": "stdout",
     "output_type": "stream",
     "text": [
      "3\n",
      "2\n"
     ]
    }
   ],
   "source": [
    "d=(2,3,5)\n",
    "print len(d)\n",
    "print d[0]"
   ]
  },
  {
   "cell_type": "markdown",
   "metadata": {},
   "source": [
    "Let's now try to do some illegal(?) stuff and see what happens."
   ]
  },
  {
   "cell_type": "code",
   "execution_count": 15,
   "metadata": {},
   "outputs": [
    {
     "name": "stdout",
     "output_type": "stream",
     "text": [
      "('string1', 'string2')\n"
     ]
    }
   ],
   "source": [
    "#d.append(2.3)\n",
    "#d.append('will_it_work?')\n",
    "experimental_tuple=('string1','string2')\n",
    "print experimental_tuple"
   ]
  },
  {
   "cell_type": "markdown",
   "metadata": {},
   "source": [
    "# Dictionaries"
   ]
  },
  {
   "cell_type": "markdown",
   "metadata": {},
   "source": [
    "Dictionaries are one of the most important data structures in Python and are native to the langauge.  Getting this type of functionality in other languages requires additional modules.  The distinguishing characteristic is that entries consist of key:value pairs and can contain virtually anything.  The entries of a dictionary are contained within braces."
   ]
  },
  {
   "cell_type": "code",
   "execution_count": 16,
   "metadata": {},
   "outputs": [
    {
     "name": "stdout",
     "output_type": "stream",
     "text": [
      "77 ['A', 'D', 'F']\n",
      "6\n"
     ]
    }
   ],
   "source": [
    "my_dictionary={'Melvin':77,'Pamela':64,'UT Tyler':'Awesome','3307 Grades':['A','D','F'],'dictionary':{'str':7},'tuple':(3,9)}\n",
    "print my_dictionary['Melvin'],my_dictionary['3307 Grades']\n",
    "print len(my_dictionary)"
   ]
  },
  {
   "cell_type": "markdown",
   "metadata": {},
   "source": [
    "We define a dictionary variable that contains keys with corresponding values of integers, strings, lists and other dictionaries.  This can be a little confusing at first, but it is very useful in a machine learning context to house both data and descriptive information for that data.  A dictionary, just as a list, is **not** an immutable object.  We should try to append elements to the dictionary.  I know that this can be done, but am feeling too lazy at this time so *we* are going to do it on the fly during the coding session.  The point is that it is alright, except on exams, do have online references.  "
   ]
  },
  {
   "cell_type": "code",
   "execution_count": 24,
   "metadata": {},
   "outputs": [
    {
     "name": "stdout",
     "output_type": "stream",
     "text": [
      "8\n",
      "8\n",
      "['dictionary', 'tuple', '3307 Grades', 'feeling now again', 'Pamela', 'feeling now', 'Melvin', 'UT Tyler']\n"
     ]
    }
   ],
   "source": [
    "my_dictionary2=my_dictionary\n",
    "print len(my_dictionary)\n",
    "my_dictionary2['feeling now again']='scared'\n",
    "print len(my_dictionary2)\n",
    "print my_dictionary2.keys()"
   ]
  },
  {
   "cell_type": "markdown",
   "metadata": {},
   "source": [
    "# Control Structures"
   ]
  },
  {
   "cell_type": "markdown",
   "metadata": {},
   "source": [
    "Python has the typical control structures found in other languages:  for loops, while loops, if...else structures.  These are fairly routine, but an annoying requirement is that a colon is required at the end of the defineing statement **and** the next line must be indented.  Failure to comply with these simple, yet easy to forget, rules can cost a lot of time."
   ]
  },
  {
   "cell_type": "code",
   "execution_count": 26,
   "metadata": {},
   "outputs": [
    {
     "name": "stdout",
     "output_type": "stream",
     "text": [
      "False\n",
      "We might be on Earth\n",
      "1\n",
      "2\n",
      "3\n",
      "4\n",
      "5\n",
      "6\n",
      "7\n",
      "8\n",
      "9\n",
      "10\n",
      "[0, 1, 2, 3, 4, 5, 6, 7, 8, 9]\n"
     ]
    }
   ],
   "source": [
    "print 6==7\n",
    "g=9.8\n",
    "if g<10:\n",
    "    print 'We might be on Earth'\n",
    "else:\n",
    "    print 'We are definitely not on earth'\n",
    "number_of_loops=10\n",
    "for i in range(10):\n",
    "    print i+1\n",
    "print range(10)"
   ]
  },
  {
   "cell_type": "markdown",
   "metadata": {},
   "source": [
    "# Using other people's code"
   ]
  },
  {
   "cell_type": "markdown",
   "metadata": {},
   "source": [
    "This facility makes Python, and all other programming languagues, worth the bits that they built on.  There are two main ways to get other folks code into your program:  the import statement and the from statement."
   ]
  },
  {
   "cell_type": "code",
   "execution_count": 27,
   "metadata": {},
   "outputs": [],
   "source": [
    "import numpy as np\n",
    "from sklearn.metrics import accuracy_score"
   ]
  },
  {
   "cell_type": "markdown",
   "metadata": {},
   "source": [
    "These are the two main ways that I use.  The first simply imports the whole numpy namespace (functions, global variables, etc) into your code and lets you address them with np.  The second statement imports one function, accuracy_score from the module sklearn.metrics.  A good language reference can give you far more details about this sort of stuff, but remembering and using these types of statements comes more with experience."
   ]
  },
  {
   "cell_type": "markdown",
   "metadata": {},
   "source": [
    "# NUMPY"
   ]
  },
  {
   "cell_type": "markdown",
   "metadata": {},
   "source": [
    "Numpy is an extremely important module that equips (with scipy) Python with the functionality of MATLAB.  Best way to learn is to jump right in and try some stuff.  An important kick start is that we can convert lists to arrays (and vice versa).  This is a very important distinction."
   ]
  },
  {
   "cell_type": "code",
   "execution_count": 28,
   "metadata": {},
   "outputs": [],
   "source": [
    "a=[2,3,5.3]\n",
    "b=[-2.3,2,2]"
   ]
  },
  {
   "cell_type": "markdown",
   "metadata": {},
   "source": [
    "Recall that this simply assigns a and b to lists."
   ]
  },
  {
   "cell_type": "code",
   "execution_count": 29,
   "metadata": {},
   "outputs": [
    {
     "name": "stdout",
     "output_type": "stream",
     "text": [
      "[2, 3, 5.3, -2.3, 2, 2]\n"
     ]
    }
   ],
   "source": [
    "print a+b"
   ]
  },
  {
   "cell_type": "markdown",
   "metadata": {},
   "source": [
    "This is probably not what we meant!"
   ]
  },
  {
   "cell_type": "code",
   "execution_count": 30,
   "metadata": {},
   "outputs": [
    {
     "name": "stdout",
     "output_type": "stream",
     "text": [
      "[-0.3  5.   7.3]\n",
      "<type 'numpy.ndarray'>\n"
     ]
    }
   ],
   "source": [
    "a=np.array(a)\n",
    "b=np.array(b)\n",
    "print a+b\n",
    "print type(a)"
   ]
  },
  {
   "cell_type": "markdown",
   "metadata": {},
   "source": [
    "Now that's more like it.  Once our variables are into a mathematical data structure we can do all sorts of cool, and usual, things with them."
   ]
  },
  {
   "cell_type": "code",
   "execution_count": 34,
   "metadata": {},
   "outputs": [
    {
     "name": "stdout",
     "output_type": "stream",
     "text": [
      "[[2 3]\n",
      " [4 5]]\n",
      "[13. -9.]\n",
      "[0. 0.]\n"
     ]
    }
   ],
   "source": [
    "#print np.dot(a,b)\n",
    "b=np.array([-1,7])\n",
    "my_matrix=np.array([[2,3],[4,5]])\n",
    "print my_matrix\n",
    "x=np.linalg.solve(my_matrix,b)\n",
    "print x\n",
    "print b-np.dot(my_matrix,x)"
   ]
  },
  {
   "cell_type": "markdown",
   "metadata": {},
   "source": [
    "Note the way that we defined a matrix."
   ]
  },
  {
   "cell_type": "code",
   "execution_count": 35,
   "metadata": {},
   "outputs": [
    {
     "name": "stdout",
     "output_type": "stream",
     "text": [
      "[[ 1.30961241 -0.706895    2.43235555]\n",
      " [ 0.31004604 -0.34881198  0.22314964]]\n",
      "nan\n"
     ]
    },
    {
     "name": "stderr",
     "output_type": "stream",
     "text": [
      "/usr/lib/python2.7/site-packages/ipykernel_launcher.py:3: RuntimeWarning: invalid value encountered in sqrt\n",
      "  This is separate from the ipykernel package so we can avoid doing imports until\n"
     ]
    }
   ],
   "source": [
    "random_data=np.random.randn(2,3)\n",
    "print random_data\n",
    "print 2+np.sqrt(-2)"
   ]
  },
  {
   "cell_type": "markdown",
   "metadata": {},
   "source": [
    "# File I/O"
   ]
  },
  {
   "cell_type": "code",
   "execution_count": 36,
   "metadata": {},
   "outputs": [
    {
     "name": "stdout",
     "output_type": "stream",
     "text": [
      "This is some text that I wrote to a file using a standard text editor.\n",
      "4.3\n",
      "-3.9\n",
      "2\n",
      "More text mixed with the numbers.\n",
      "Finally...the end.\n",
      "<type 'str'>\n",
      "Line # 1   This is some text that I wrote to a file using a standard text editor.\n",
      "\n",
      "Line # 2   4.3\n",
      "\n",
      "Line # 3   -3.9\n",
      "\n",
      "Line # 4   2\n",
      "\n",
      "Line # 5   More text mixed with the numbers.\n",
      "\n",
      "Line # 6   Finally...the end.\n",
      "\n"
     ]
    }
   ],
   "source": [
    "fname='text.txt'\n",
    "f=open(fname,'r')\n",
    "i=0\n",
    "another_var=f.read()\n",
    "print another_var,type(another_var) #demonstrate that the whole file is just a big string in Python\n",
    "f.seek(0) #reset this to the beginning because f.read read the whole file.\n",
    "for lines in f:\n",
    "    print 'Line #',i+1,' ',lines\n",
    "    i=i+1"
   ]
  },
  {
   "cell_type": "markdown",
   "metadata": {},
   "source": [
    "Let's take a look at the write function to write out our random array...I hope it works"
   ]
  },
  {
   "cell_type": "markdown",
   "metadata": {},
   "source": [
    "# Plotting"
   ]
  },
  {
   "cell_type": "code",
   "execution_count": 37,
   "metadata": {},
   "outputs": [
    {
     "data": {
      "image/png": "[encoded data removed]",
      "text/plain": [
       "<matplotlib.figure.Figure at 0x7f2d6752b9d0>"
      ]
     },
     "metadata": {},
     "output_type": "display_data"
    }
   ],
   "source": [
    "import matplotlib.pyplot as plt\n",
    "import numpy as np\n",
    "N=50\n",
    "x=np.linspace(-2*np.pi,2*np.pi,N)\n",
    "plt.plot(x,np.sin(x))\n",
    "plt.show()"
   ]
  },
  {
   "cell_type": "markdown",
   "metadata": {},
   "source": [
    "We can dress this up in many different ways which we do in this live session.  "
   ]
  },
  {
   "cell_type": "markdown",
   "metadata": {},
   "source": [
    "# Wrapping up"
   ]
  },
  {
   "cell_type": "markdown",
   "metadata": {},
   "source": [
    "This session gives you a little taste of Python and of course more practice with tangible goals will make you better.  What do you need to take things to the next level of machine learning?\n",
    "\n",
    "* Try something small and build from that\n",
    "* Get comfortable with a Unix operating system\n",
    "* Learn to use several different tools, taking the best of all\n",
    "* Learn scripting and text processing.  \n",
    "* Validate, validate, validate\n",
    "* Learn how to build open source software.\n",
    "* Get involved!  Engage in projects that rob you of your precious free time."
   ]
  },
  {
   "cell_type": "markdown",
   "metadata": {},
   "source": [
    "# Q&A"
   ]
  }
 ],
 "metadata": {
  "kernelspec": {
   "display_name": "Python 2",
   "language": "python",
   "name": "python2"
  },
  "language_info": {
   "codemirror_mode": {
    "name": "ipython",
    "version": 2
   },
   "file_extension": ".py",
   "mimetype": "text/x-python",
   "name": "python",
   "nbconvert_exporter": "python",
   "pygments_lexer": "ipython2",
   "version": "2.7.13"
  }
 },
 "nbformat": 4,
 "nbformat_minor": 2
}
