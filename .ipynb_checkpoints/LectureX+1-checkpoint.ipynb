{
 "cells": [
  {
   "cell_type": "markdown",
   "metadata": {},
   "source": [
    "Here we take a look at classifying the MNIST dataset.  We viewed a few samples from the dataset last time.  Our first stab will be using a multilayer perceptron (MLP) at classifying this data and assess the classifier's accuracy under a variety of scenarios.  "
   ]
  },
  {
   "cell_type": "code",
   "execution_count": 1,
   "metadata": {},
   "outputs": [
    {
     "name": "stdout",
     "output_type": "stream",
     "text": [
      "(70000,) (70000, 784)\n"
     ]
    }
   ],
   "source": [
    "%matplotlib inline\n",
    "\n",
    "import matplotlib.pyplot as plt\n",
    "from sklearn.datasets import fetch_mldata\n",
    "from sklearn.neural_network import MLPClassifier\n",
    "from sklearn.metrics import accuracy_score\n",
    "mnist = fetch_mldata(\"MNIST original\")\n",
    "# rescale the data, use the traditional train/test split\n",
    "X, y = mnist.data / 255., mnist.target\n",
    "print mnist.target.shape,mnist.data.shape\n",
    "X_train, X_test = X[:65000], X[65000:]\n",
    "y_train, y_test = y[:65000], y[65000:]"
   ]
  },
  {
   "cell_type": "markdown",
   "metadata": {},
   "source": [
    "So we have our data partitioned into our appropriate train/test sets.  Now we need to pick a learning machine and train.  For this demonstration we will use the Multilayer Perceptron.  A multilayer perceptron is classified by an input layer, a number of hidden layers, and followed by an output layer.  A lot of learning machines learn nonlinear relationships in the data.  In a multilayer perceptron, the hidden units provide the non-linear relationship between the input and output.  "
   ]
  },
  {
   "cell_type": "code",
   "execution_count": 2,
   "metadata": {},
   "outputs": [],
   "source": [
    "mlp = MLPClassifier(hidden_layer_sizes=(50,), max_iter=10, alpha=1e-4,\n",
    "                    solver='sgd', verbose=10, tol=1e-4, random_state=1,\n",
    "                    learning_rate_init=.1)"
   ]
  },
  {
   "cell_type": "markdown",
   "metadata": {},
   "source": [
    "As with any learning machine there are a number of parameters to set that make each machine learning experiment different.  In this case we define a single hidden layer with 50 hidden units, use the stochastic gradient descent solver, and train for 10 iterations.  We will experiment with different topologies with the venerable MLP."
   ]
  },
  {
   "cell_type": "code",
   "execution_count": null,
   "metadata": {},
   "outputs": [
    {
     "name": "stdout",
     "output_type": "stream",
     "text": [
      "Iteration 1, loss = 0.30982396\n",
      "Iteration 2, loss = 0.14703519\n",
      "Iteration 3, loss = 0.10935137\n",
      "Iteration 4, loss = 0.09069437\n",
      "Iteration 5, loss = 0.07716817\n",
      "Iteration 6, loss = 0.06883613\n",
      "Iteration 7, loss = 0.06181142\n",
      "Iteration 8, loss = 0.05363490\n",
      "Iteration 9, loss = 0.04949118\n"
     ]
    }
   ],
   "source": [
    "mlp.fit(X_train, y_train)"
   ]
  },
  {
   "cell_type": "code",
   "execution_count": 33,
   "metadata": {},
   "outputs": [
    {
     "name": "stdout",
     "output_type": "stream",
     "text": [
      "Training set score: 0.987277\n",
      "Test set score: 0.957600\n",
      "Training accuracy using accuracy_score function 0.987276923076923\n",
      "Training accuracy using accuracy_score function 0.9576\n"
     ]
    }
   ],
   "source": [
    "print(\"Training set score: %f\" % mlp.score(X_train, y_train))\n",
    "print(\"Test set score: %f\" % mlp.score(X_test, y_test))\n",
    "y_hat=mlp.predict(X_train)\n",
    "print 'Training accuracy using accuracy_score function',accuracy_score(y_train,y_hat)\n",
    "y_hat=mlp.predict(X_test)\n",
    "print 'Training accuracy using accuracy_score function',accuracy_score(y_test,y_hat)"
   ]
  },
  {
   "cell_type": "code",
   "execution_count": 34,
   "metadata": {},
   "outputs": [
    {
     "name": "stdout",
     "output_type": "stream",
     "text": [
      "[ True False False ... False False False]\n"
     ]
    }
   ],
   "source": [
    "import numpy as np\n",
    "k=y_test!=y_hat\n",
    "print k"
   ]
  },
  {
   "cell_type": "code",
   "execution_count": 35,
   "metadata": {},
   "outputs": [],
   "source": [
    "itemindex = np.where(k==True)"
   ]
  },
  {
   "cell_type": "code",
   "execution_count": 38,
   "metadata": {},
   "outputs": [
    {
     "name": "stdout",
     "output_type": "stream",
     "text": [
      "[   0  105  113  171  200  222  226  233  255  256  264  274  293  312\n",
      "  316  327  342  352  377  391  400  413  419  431  432  462  463  497\n",
      "  523  536  546  549  552  678  682  684  686  722  723  740  866  875\n",
      "  977  982  988 1010 1014 1015 1028 1053 1066 1114 1118 1132 1184 1221\n",
      " 1223 1267 1273 1352 1360 1364 1394 1422 1477 1645 1680 1956 1958 2057\n",
      " 2062 2091 2115 2118 2123 2139 2143 2157 2168 2189 2194 2201 2290 2318\n",
      " 2336 2383 2385 2387 2389 2397 2400 2419 2496 2561 2588 2903 2904 2905\n",
      " 2906 3017 3029 3056 3066 3067 3075 3078 3102 3138 3151 3153 3160 3170\n",
      " 3181 3189 3192 3196 3204 3209 3215 3240 3243 3247 3254 3267 3294 3301\n",
      " 3302 3305 3307 3323 3330 3331 3354 3367 3372 3375 3378 3387 3397 3412\n",
      " 3424 3444 3452 3459 3460 3465 3472 3484 3501 3503 3519 3539 3554 3555\n",
      " 3580 3607 3637 3658 3659 3663 3666 3678 3723 3726 3753 3782 3831 3840\n",
      " 3841 3850 3921 3931 3939 3961 3965 3967 3985 4009 4026 4040 4106 4107\n",
      " 4121 4145 4158 4177 4210 4220 4221 4222 4247 4278 4325 4334 4355 4379\n",
      " 4382 4401 4409 4422 4433 4444 4455 4486 4491 4588 4656 4664 4720 4967\n",
      " 4975 4986]\n",
      "(212,)\n"
     ]
    }
   ],
   "source": [
    "print itemindex[0]\n",
    "print itemindex[0].shape"
   ]
  },
  {
   "cell_type": "code",
   "execution_count": 39,
   "metadata": {},
   "outputs": [
    {
     "name": "stdout",
     "output_type": "stream",
     "text": [
      "212\n"
     ]
    }
   ],
   "source": [
    "print len(itemindex[0])"
   ]
  },
  {
   "cell_type": "markdown",
   "metadata": {},
   "source": [
    "Based on the accuracy information we have an idea of the accuracy of our classifier and how many misclassifications there are.  To make further progress to improving the classifier we should probably take a look at the underlying misclassifications.  This is pretty easy (?)"
   ]
  },
  {
   "cell_type": "code",
   "execution_count": 40,
   "metadata": {},
   "outputs": [],
   "source": [
    "random_index_match=1423\n",
    "random_index_no_match=1422"
   ]
  },
  {
   "cell_type": "code",
   "execution_count": 41,
   "metadata": {},
   "outputs": [
    {
     "name": "stdout",
     "output_type": "stream",
     "text": [
      "(784,)\n"
     ]
    },
    {
     "data": {
      "text/plain": [
       "<matplotlib.image.AxesImage at 0x7f521fe44950>"
      ]
     },
     "execution_count": 41,
     "metadata": {},
     "output_type": "execute_result"
    },
    {
     "data": {
      "image/png": "[encoded data removed]",
      "text/plain": [
       "<matplotlib.figure.Figure at 0x7f51ebbfb610>"
      ]
     },
     "metadata": {},
     "output_type": "display_data"
    }
   ],
   "source": [
    "print X_test[random_index_match].shape\n",
    "match_image=np.reshape(X_test[random_index_match],(28,28))\n",
    "plt.imshow(match_image,cmap='gray')"
   ]
  },
  {
   "cell_type": "code",
   "execution_count": 42,
   "metadata": {},
   "outputs": [
    {
     "name": "stdout",
     "output_type": "stream",
     "text": [
      "6.0\n"
     ]
    }
   ],
   "source": [
    "print y_test[random_index_match]"
   ]
  },
  {
   "cell_type": "code",
   "execution_count": 43,
   "metadata": {},
   "outputs": [
    {
     "name": "stdout",
     "output_type": "stream",
     "text": [
      "(784,)\n"
     ]
    },
    {
     "data": {
      "text/plain": [
       "<matplotlib.image.AxesImage at 0x7f521fe8e190>"
      ]
     },
     "execution_count": 43,
     "metadata": {},
     "output_type": "execute_result"
    },
    {
     "data": {
      "image/png": "[encoded data removed]",
      "text/plain": [
       "<matplotlib.figure.Figure at 0x7f5202453f10>"
      ]
     },
     "metadata": {},
     "output_type": "display_data"
    }
   ],
   "source": [
    "print X_test[random_index_no_match].shape\n",
    "no_match_image=np.reshape(X_test[random_index_no_match],(28,28))\n",
    "plt.imshow(no_match_image,cmap='gray')"
   ]
  },
  {
   "cell_type": "code",
   "execution_count": 44,
   "metadata": {},
   "outputs": [
    {
     "name": "stdout",
     "output_type": "stream",
     "text": [
      "6.0 4.0\n"
     ]
    }
   ],
   "source": [
    "print y_test[random_index_no_match],y_hat[random_index_no_match]"
   ]
  },
  {
   "cell_type": "code",
   "execution_count": 48,
   "metadata": {},
   "outputs": [
    {
     "name": "stdout",
     "output_type": "stream",
     "text": [
      "[0, 1, 2] [3, 7] [0, 1, 2, 3]\n"
     ]
    }
   ],
   "source": [
    "y=[0,1,2,3,7]\n",
    "print y[:3],y[3:],y[:-1]"
   ]
  },
  {
   "cell_type": "code",
   "execution_count": null,
   "metadata": {},
   "outputs": [],
   "source": []
  }
 ],
 "metadata": {
  "kernelspec": {
   "display_name": "Python 2",
   "language": "python",
   "name": "python2"
  },
  "language_info": {
   "codemirror_mode": {
    "name": "ipython",
    "version": 2
   },
   "file_extension": ".py",
   "mimetype": "text/x-python",
   "name": "python",
   "nbconvert_exporter": "python",
   "pygments_lexer": "ipython2",
   "version": "2.7.13"
  }
 },
 "nbformat": 4,
 "nbformat_minor": 2
}
